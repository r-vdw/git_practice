{
  "nbformat": 4,
  "nbformat_minor": 0,
  "metadata": {
    "colab": {
      "provenance": [],
      "include_colab_link": true
    },
    "kernelspec": {
      "name": "python3",
      "display_name": "Python 3"
    },
    "language_info": {
      "name": "python"
    }
  },
  "cells": [
    {
      "cell_type": "markdown",
      "metadata": {
        "id": "view-in-github",
        "colab_type": "text"
      },
      "source": [
        "<a href=\"https://colab.research.google.com/github/r-vdw/git_practice/blob/master/Aanpassingen_HVOC.ipynb\" target=\"_parent\"><img src=\"https://colab.research.google.com/assets/colab-badge.svg\" alt=\"Open In Colab\"/></a>"
      ]
    },
    {
      "cell_type": "markdown",
      "source": [
        "Algemeen deel"
      ],
      "metadata": {
        "id": "YkYSwGz1rKZ6"
      }
    },
    {
      "cell_type": "markdown",
      "source": [
        "HCOV-codes vervangen (NL)"
      ],
      "metadata": {
        "id": "igRrOxSYmn4u"
      }
    },
    {
      "cell_type": "code",
      "source": [
        "import pandas as pd\n",
        "\n",
        "#excel met kolomnamen inladen\n",
        "\n",
        "hcov = pd.read_excel('HCOVv2_nieuwe_grondwaterlagen_clean_inclFR.xlsx')\n",
        "\n",
        "#tekst kopieren hierin, aandacht voor reeds aanwezig ' in tekst, hier een \\ voor plaatsen\n",
        "#script zoekt op \"A0000\" en \"Onbepaald\", dus zaken die je wil veranderen moeten in die vorm al staan\n",
        "#export-bestand kan je naam zelf kiezen\n",
        "\n",
        "def xmlHerbouwen(tekst, output):\n",
        "  input = tekst\n",
        "  index = 0\n",
        "  indextest = 0\n",
        "  hcov[\"purc\"] = ''\n",
        "  while index < len(tekst):\n",
        "  #while indextest < 10:\n",
        "\n",
        "    volgendeHCOV = tekst[index:].find(\"A0000\")\n",
        "    volgendeOmschrijving = tekst[index:].find(\"Onbepaald\")\n",
        "\n",
        "    if (volgendeHCOV  != -1):\n",
        "      indexHCOV = volgendeHCOV + index\n",
        "    if (volgendeOmschrijving != -1):\n",
        "      indexBeschrijving = volgendeOmschrijving + index\n",
        "\n",
        "    if (volgendeHCOV == -1):\n",
        "      indexHCOV = len(tekst)\n",
        "    if(volgendeOmschrijving == -1):\n",
        "      indexBeschrijving = len(tekst)\n",
        "\n",
        "    indexMinst = min(indexHCOV, indexBeschrijving)\n",
        "\n",
        "    print(\"index: \" + str(index))\n",
        "    print(\"iHCOV: \" + str(indexHCOV))\n",
        "    print(\"iBesc: \" + str(indexBeschrijving))\n",
        "    print(\"iMin: \" + str(indexMinst))\n",
        "    print(\"test: \" + str(indextest))\n",
        "\n",
        "    if (volgendeHCOV == -1 and volgendeOmschrijving == -1):\n",
        "      hcov[\"purc\"] += tekst[index:]\n",
        "      index = len(tekst)\n",
        "\n",
        "\n",
        "    hcov[\"purc\"] += input[index: indexMinst]\n",
        "    print(input[index: indexMinst])\n",
        "\n",
        "    if (indexHCOV != -1 and indexHCOV < indexBeschrijving):\n",
        "      hcov[\"purc\"] += hcov[\"Code\"]\n",
        "      index = indexMinst + len(\"A0000\")\n",
        "\n",
        "\n",
        "    if (indexBeschrijving != -1 and indexHCOV > indexBeschrijving):\n",
        "      hcov[\"purc\"] += hcov[\"Beschrijving\"]\n",
        "      index = indexMinst +  len(\"Onbepaald\")\n",
        "\n",
        "   # indextest = indextest +1\n",
        "\n",
        "\n",
        "    print(hcov[\"purc\"].head())\n",
        "  hcov['purc'].to_excel(output, index=False)\n",
        "\n",
        "#################\n",
        "#tekst kopieren hierin, aandacht voor:\n",
        "# --> staat er een \\ voor elke ' ' '\n",
        "# --> staat er overal \"A0000\" om te vervangen\n",
        "# --> staat er overal \"Onbepaald\" om te vervangen\n",
        "# script zoekt op \"A0000\" en \"Onbepaald\", dus zaken die je wil veranderen moeten in die vorm al staan\n",
        "# staat de excel opgeladen aan de rechterkant?\n",
        "# export-bestand kan je naam zelf kiezen\n",
        "#################\n",
        "\n",
        "xmlHerbouwen('<text id=\"Gegevens/WatervoerendeLaag.HCOV_A0000_label\"><value>A0000 Onbepaald</value></text>', \"aanvulling5_NL.xlsx\")\n",
        "#xmlHerbouwen('<text id=\"Gegevens/WatervoerendeLaag.HCOV_A0000_label\"><value>A0000 Onbepaald</value></text>', \"aanvulling1_NL.xlsx\")\n",
        "#xmlHerbouwen('<item id=\"HCOV_A0000\"><label ref=\"jr:itext(\\'Gegevens/WatervoerendeLaag.HCOV_A0000_label\\')\">A0000 Onbepaald</label><value>HCOV_A0000</value></item>', \"aanvulling2_NL.xlsx\")\n",
        "#xmlHerbouwen('<text value=\"A0000 Onbepaald\" xpath=\"html/body/group[@id=\\'1\\']/group[@id=\\'Gegevens\\']/repeat/select1[@bind=\\'Gegevens/WatervoerendeLaag\\']/item[@id=\\'HCOV_A0000\\']/label\"/>', \"aanvulling3_NL.xlsx\")\n",
        "\n",
        "#xmlHerbouwen('<text id=\"HCOV.HCOV_A0000_label\"><value>A0000 Onbepaald</value></text>', \"bemalingseenheid1_NL.xlsx\")\n",
        "#xmlHerbouwen('<item id=\"HCOV_A0000\"><label ref=\"jr:itext(\\'HCOV.HCOV_A0000_label\\')\">A0000 Onbepaald</label><value>HCOV_A0000</value> </item>', \"bemalingseenheid2_NL.xlsx\")\n",
        "#xmlHerbouwen('<text id=\"WatervoerendeLagen/HCOV.HCOV_A0000_label\"><value>A0000 Onbepaald</value></text>', \"rubriek1.xlsx\")\n",
        "#xmlHerbouwen('<item id=\"HCOV_A0000\"><label ref=\"jr:itext(\\'WatervoerendeLagen/HCOV.HCOV_A0000_label\\')\">A0000 Onbepaald</label><value>HCOV_0000</value></item>', \"rubriek22.xlsx\")\n",
        "\n",
        "#xmlHerbouwen('<text id=\"WatervoerendeLagen/HCOV.HCOV_A0000_label\"><value>A0000 Onbepaald</value></text>', \"basis1.xlsx\")\n",
        "#xmlHerbouwen('<item id=\"HCOV_A0000\"><label ref=\"jr:itext(\\'WatervoerendeLagen/HCOV.HCOV_A0000_label\\')\">A0000 Onbepaald</label><value>HCOV_A0000</value></item>', \"basis2.xlsx\")\n",
        "#xmlHerbouwen('<text value=\"A0000 Onbepaald\" xpath=\"html/body/group[@id=\\'1\\']/group[@id=\\'WatervoerendeLagen\\']/repeat/select1[@bind=\\'WatervoerendeLagen/HCOV\\']/item[@id=\\'HCOV_A0000\\']/label\"/>', \"basis3.xlsx\")\n",
        "#xmlHerbouwen('<item id=\"HCOV_A0000\"><label>A0000 Onbepaald</label> <value>HCOV_A0000</value> </item>', \"peilput.xlsx\")\n",
        "#xmlHerbouwen('<text id=\"Filters/HCOV.HCOV_A0000_label\"><value>A0000 Onbepaald</value></text>', \"peilput1.xlsx\")\n",
        "#xmlHerbouwen('<item id=\"HCOV_A0000\"><label ref=\"jr:itext(\\'Filters/HCOV.HCOV_A0000_label\\')\">A0000 Onbepaald</label><value>HCOV_A0000</value></item>', \"peilput2.xlsx\")\n",
        "#xmlHerbouwen('<text id=\"HCOV.HCOV_A0000_label\">  <value>A0000 Onbepaald</value></text>', \"wwp_gegevens.xlsx\")\n",
        "#xmlHerbouwen('<item id=\"HCOV_A0000\"> <label ref=\"jr:itext(\\'HCOV.HCOV_A0000_label\\')\">A0000 Onbepaald</label> <value>HCOV_A0000</value> </item>', \"wwp_gegevens2_inclFR.xlsx\")\n",
        "#xmlHerbouwen('<item id=\"HCOV_A0000\"><label ref=\"jr:itext(\\'WatervoerendeLagen/HCOV.HCOV_A0000_label\\')\">A0000 Onbepaald</label><value>HCOV_A0000</value>', 'export_purc1.xlsx')\n",
        "#xmlHerbouwen('<text xpath=\"html/body/group[@id=\\'1\\']/group[@id=\\'WatervoerendeLagen\\']/repeat/select1[@bind=\\'WatervoerendeLagen/HCOV\\']/item[@id=\\'HCOV_\\'A0000\\']/label\" value=\"0000 Onbepaald\"/>', 'export_purc2.xlsx')\n"
      ],
      "metadata": {
        "colab": {
          "base_uri": "https://localhost:8080/"
        },
        "id": "H9sqsynRfvya",
        "outputId": "c81842a1-a131-4f60-99c8-c18f60188a5d"
      },
      "execution_count": 19,
      "outputs": [
        {
          "output_type": "stream",
          "name": "stdout",
          "text": [
            "index: 0\n",
            "iHCOV: 42\n",
            "iBesc: 68\n",
            "iMin: 42\n",
            "test: 0\n",
            "<text id=\"Gegevens/WatervoerendeLaag.HCOV_\n",
            "0    <text id=\"Gegevens/WatervoerendeLaag.HCOV_A0000\n",
            "1    <text id=\"Gegevens/WatervoerendeLaag.HCOV_A0100\n",
            "2    <text id=\"Gegevens/WatervoerendeLaag.HCOV_A0110\n",
            "3    <text id=\"Gegevens/WatervoerendeLaag.HCOV_A0120\n",
            "4    <text id=\"Gegevens/WatervoerendeLaag.HCOV_A0130\n",
            "Name: purc, dtype: object\n",
            "index: 47\n",
            "iHCOV: 62\n",
            "iBesc: 68\n",
            "iMin: 62\n",
            "test: 0\n",
            "_label\"><value>\n",
            "0    <text id=\"Gegevens/WatervoerendeLaag.HCOV_A000...\n",
            "1    <text id=\"Gegevens/WatervoerendeLaag.HCOV_A010...\n",
            "2    <text id=\"Gegevens/WatervoerendeLaag.HCOV_A011...\n",
            "3    <text id=\"Gegevens/WatervoerendeLaag.HCOV_A012...\n",
            "4    <text id=\"Gegevens/WatervoerendeLaag.HCOV_A013...\n",
            "Name: purc, dtype: object\n",
            "index: 67\n",
            "iHCOV: 92\n",
            "iBesc: 68\n",
            "iMin: 68\n",
            "test: 0\n",
            " \n",
            "0    <text id=\"Gegevens/WatervoerendeLaag.HCOV_A000...\n",
            "1    <text id=\"Gegevens/WatervoerendeLaag.HCOV_A010...\n",
            "2    <text id=\"Gegevens/WatervoerendeLaag.HCOV_A011...\n",
            "3    <text id=\"Gegevens/WatervoerendeLaag.HCOV_A012...\n",
            "4    <text id=\"Gegevens/WatervoerendeLaag.HCOV_A013...\n",
            "Name: purc, dtype: object\n",
            "index: 77\n",
            "iHCOV: 92\n",
            "iBesc: 92\n",
            "iMin: 92\n",
            "test: 0\n",
            "\n",
            "0    <text id=\"Gegevens/WatervoerendeLaag.HCOV_A000...\n",
            "1    <text id=\"Gegevens/WatervoerendeLaag.HCOV_A010...\n",
            "2    <text id=\"Gegevens/WatervoerendeLaag.HCOV_A011...\n",
            "3    <text id=\"Gegevens/WatervoerendeLaag.HCOV_A012...\n",
            "4    <text id=\"Gegevens/WatervoerendeLaag.HCOV_A013...\n",
            "Name: purc, dtype: object\n"
          ]
        }
      ]
    },
    {
      "cell_type": "markdown",
      "source": [
        "HCOV-codes vervangen (FR)"
      ],
      "metadata": {
        "id": "BoBtkmwimlBV"
      }
    },
    {
      "cell_type": "code",
      "source": [
        "import pandas as pd\n",
        "\n",
        "#excel met kolomnamen inladen\n",
        "\n",
        "hcov = pd.read_excel('HCOVv2_nieuwe_grondwaterlagen_clean_inclFR.xlsx')\n",
        "\n",
        "#tekst kopieren hierin, aandacht voor reeds aanwezig ' in tekst, hier een \\ voor plaatsen\n",
        "#script zoekt op \"A0000\" en \"Indéfini\", dus zaken die je wil veranderen moeten in die vorm al staan\n",
        "#export-bestand kan je naam zelf kiezen\n",
        "\n",
        "def xmlHerbouwen_FR(tekst, output):\n",
        "  input = tekst\n",
        "  index = 0\n",
        "  indextest = 0\n",
        "  hcov[\"purc\"] = ''\n",
        "  while index < len(tekst):\n",
        "  #while indextest < 10:\n",
        "\n",
        "    volgendeHCOV = tekst[index:].find(\"A0000\")\n",
        "    volgendeOmschrijving = tekst[index:].find(\"Indéfini\")\n",
        "\n",
        "    if (volgendeHCOV  != -1):\n",
        "      indexHCOV = volgendeHCOV + index\n",
        "    if (volgendeOmschrijving != -1):\n",
        "      indexBeschrijving = volgendeOmschrijving + index\n",
        "\n",
        "    if (volgendeHCOV == -1):\n",
        "      indexHCOV = len(tekst)\n",
        "    if(volgendeOmschrijving == -1):\n",
        "      indexBeschrijving = len(tekst)\n",
        "\n",
        "    indexMinst = min(indexHCOV, indexBeschrijving)\n",
        "\n",
        "    print(\"index: \" + str(index))\n",
        "    print(\"iHCOV: \" + str(indexHCOV))\n",
        "    print(\"iBesc: \" + str(indexBeschrijving))\n",
        "    print(\"iMin: \" + str(indexMinst))\n",
        "    print(\"test: \" + str(indextest))\n",
        "\n",
        "    if (volgendeHCOV == -1 and volgendeOmschrijving == -1):\n",
        "      hcov[\"purc\"] += tekst[index:]\n",
        "      index = len(tekst)\n",
        "\n",
        "\n",
        "    hcov[\"purc\"] += input[index: indexMinst]\n",
        "    print(input[index: indexMinst])\n",
        "\n",
        "    if (indexHCOV != -1 and indexHCOV < indexBeschrijving):\n",
        "      hcov[\"purc\"] += hcov[\"Code\"]\n",
        "      index = indexMinst + len(\"A0000\")\n",
        "\n",
        "\n",
        "    if (indexBeschrijving != -1 and indexHCOV > indexBeschrijving):\n",
        "      hcov[\"purc\"] += hcov[\"Beschrijving_FR\"]\n",
        "      index = indexMinst +  len(\"Indéfini\")\n",
        "\n",
        "   # indextest = indextest +1\n",
        "\n",
        "\n",
        "    print(hcov[\"purc\"].head())\n",
        "  hcov['purc'].to_excel(output, index=False)\n",
        "\n",
        "\n",
        "#################\n",
        "#tekst kopieren hierin, aandacht voor:\n",
        "# --> staat er een \\ voor elke ' ' '\n",
        "# --> staat er overal \"A0000\" om te vervangen\n",
        "# --> staat er overal \"Indéfini\" om te vervangen\n",
        "# script zoekt op \"A0000\" en \"Indéfini\", dus zaken die je wil veranderen moeten in die vorm al staan\n",
        "# staat de excel opgeladen aan de rechterkant?\n",
        "# export-bestand kan je naam zelf kiezen\n",
        "#################\n",
        "\n",
        "xmlHerbouwen_FR('<text value=\"A0000 Indéfini\" xpath=\"html/body/group[@id=\\'1\\']/group[@id=\\'Gegevens\\']/repeat[@bind=\\'Gegevens\\']/select1[@bind=\\'Gegevens/WatervoerendeLaag\\']/item[@id=\\'HCOV_A0000\\']/label\"/>', \"aanvulling4_FR.xlsx\")\n",
        "\n",
        "#xmlHerbouwen_FR('<text id=\"HCOV.HCOV_A0000_label\"><value>A0000 Indéfini</value></text>', \"bemalingseenheid3_FR.xlsx\")\n",
        "#xmlHerbouwen_FR('<text value=\"A0000 Indéfini\" xpath=\"html/body/group[@id=\\'1\\']/select1[@bind=\\'HCOV\\']/item[@id=\\'HCOV_A0000\\']/label\"/>', \"bemalingseenheid4_FR.xlsx\")\n",
        "#xmlHerbouwen_FR('<text value=\"A0000 Indéfini\" xpath=\"html/body/group[@id=\\'1\\']/group[@id=\\'WatervoerendeLagen\\']/repeat[@bind=\\'WatervoerendeLagen\\']/select1[@bind=\\'WatervoerendeLagen/HCOV\\']/item[@id=\\'HCOV_A0000\\']/label\"/>', \"basis1.xlsx\")\n",
        "#xmlHerbouwen_FR('<text value=\"A0000 Indéfini\" xpath=\"html/body/group[@id=\\'1\\']/group[@id=\\'Filters\\']/repeat[@bind=\\'Filters\\']/select1[@bind=\\'Filters/HCOV\\']/item[@id=\\'HCOV_A0000\\']/label\"/>', \"peilput1.xlsx\")\n",
        "#xmlHerbouwen_FR('<text id=\"HCOV.HCOV_A0000_label\"><value>A0000 Indéfini</value></text>', \"wwp1.xlsx\")\n",
        "#xmlHerbouwen_FR('<text value=\"A0000 Indéfini\" xpath=\"html/body/group[@id=\\'1\\']/select1[@bind=\\'HCOV\\']/item[@id=\\'HCOV_A0000\\']/label\"/>', \"ww2.xlsx\")\n",
        "#xmlHerbouwen_FR('<text value=\"A0000 Indéfini\" xpath=\"html/body/group[@id=\\'1\\']/group[@id=\\'WatervoerendeLagen\\']/repeat[@bind=\\'WatervoerendeLagen\\']/select1[@bind=\\'WatervoerendeLagen/HCOV\\']/item[@id=\\'HCOV_A0000\\']/label\"/>', \"rubriekFR_33.xlsx\")"
      ],
      "metadata": {
        "colab": {
          "base_uri": "https://localhost:8080/"
        },
        "id": "36hBQpa5ZGC6",
        "outputId": "95adcb19-9961-481c-9853-14714ff3d375"
      },
      "execution_count": 17,
      "outputs": [
        {
          "output_type": "stream",
          "name": "stdout",
          "text": [
            "index: 0\n",
            "iHCOV: 13\n",
            "iBesc: 19\n",
            "iMin: 13\n",
            "test: 0\n",
            "<text value=\"\n",
            "0    <text value=\"A0000\n",
            "1    <text value=\"A0100\n",
            "2    <text value=\"A0110\n",
            "3    <text value=\"A0120\n",
            "4    <text value=\"A0130\n",
            "Name: purc, dtype: object\n",
            "index: 18\n",
            "iHCOV: 167\n",
            "iBesc: 19\n",
            "iMin: 19\n",
            "test: 0\n",
            " \n",
            "0                          <text value=\"A0000 Indéfini\n",
            "1    <text value=\"A0100 Systèmes aquifères Quaterna...\n",
            "2                          <text value=\"A0110 Remblais\n",
            "3                             <text value=\"A0120 Dunes\n",
            "4                <text value=\"A0130 Dépôts des polders\n",
            "Name: purc, dtype: object\n",
            "index: 27\n",
            "iHCOV: 167\n",
            "iBesc: 183\n",
            "iMin: 167\n",
            "test: 0\n",
            "\" xpath=\"html/body/group[@id='1']/group[@id='Gegevens']/repeat[@bind='Gegevens']/select1[@bind='Gegevens/WatervoerendeLaag']/item[@id='HCOV_\n",
            "0    <text value=\"A0000 Indéfini\" xpath=\"html/body/...\n",
            "1    <text value=\"A0100 Systèmes aquifères Quaterna...\n",
            "2    <text value=\"A0110 Remblais\" xpath=\"html/body/...\n",
            "3    <text value=\"A0120 Dunes\" xpath=\"html/body/gro...\n",
            "4    <text value=\"A0130 Dépôts des polders\" xpath=\"...\n",
            "Name: purc, dtype: object\n",
            "index: 172\n",
            "iHCOV: 183\n",
            "iBesc: 183\n",
            "iMin: 183\n",
            "test: 0\n",
            "\n",
            "0    <text value=\"A0000 Indéfini\" xpath=\"html/body/...\n",
            "1    <text value=\"A0100 Systèmes aquifères Quaterna...\n",
            "2    <text value=\"A0110 Remblais\" xpath=\"html/body/...\n",
            "3    <text value=\"A0120 Dunes\" xpath=\"html/body/gro...\n",
            "4    <text value=\"A0130 Dépôts des polders\" xpath=\"...\n",
            "Name: purc, dtype: object\n"
          ]
        }
      ]
    },
    {
      "cell_type": "markdown",
      "source": [
        "OUDE VERSIES"
      ],
      "metadata": {
        "id": "KnBRYmSImhCy"
      }
    },
    {
      "cell_type": "code",
      "source": [
        "import pandas as pd\n",
        "\n",
        "#excel met kolomnamen inladen\n",
        "\n",
        "hvoc = pd.read_excel('HCOVv2_nieuwe_grondwaterlagen_clean.xlsx')\n",
        "\n",
        "#extra kolommen aanmaken met nuttige velden, hier vb \"A0000\" --> \"0000\"\n",
        "hvoc['Code_zonder_A'] = hvoc['Code'].str[1:]\n",
        "print(hvoc)"
      ],
      "metadata": {
        "colab": {
          "base_uri": "https://localhost:8080/"
        },
        "id": "7dSATK06Rit1",
        "outputId": "5a1286d0-7480-4999-8c04-90507059e1ab"
      },
      "execution_count": null,
      "outputs": [
        {
          "output_type": "stream",
          "name": "stdout",
          "text": [
            "      Code                                Beschrijving Code_zonder_A\n",
            "0    A0000                                   Onbepaald          0000\n",
            "1    A0100                   Quartaire Aquifersystemen          0100\n",
            "2    A0110                                  Ophogingen          0110\n",
            "3    A0120                                      Duinen          0120\n",
            "4    A0130                           Polderafzettingen          0130\n",
            "..     ...                                         ...           ...\n",
            "129  A1300                                      Sokkel          1300\n",
            "130  A1310  Boven-Carboon (steenkoolterrein en -lagen)          1310\n",
            "131  A1320                 Kolenkalk (incl. Wealdiaan)          1320\n",
            "132  A1330                                      Devoon          1330\n",
            "133  A1340           Cambro-Siluur Massief van Brabant          1340\n",
            "\n",
            "[134 rows x 3 columns]\n"
          ]
        }
      ]
    },
    {
      "cell_type": "markdown",
      "source": [
        "Aanpassingen voor MIL_R53_WWP_GEGEVENS_002"
      ],
      "metadata": {
        "id": "qMoa93zdrQI6"
      }
    },
    {
      "cell_type": "code",
      "source": [
        "#<item id=\"HCOV_A0000\"> <label ref=\"jr:itext('HCOV.HCOV_A0000_label')\">0000 Onbepaald</label> <value>HCOV_A0000</value> </item>\n",
        "\n",
        "a = '<item id=\"HCOV_'\n",
        "b = '\"> <label ref=\"jr:itext(\\'HCOV.HCOV_'\n",
        "c = '_label\\')\">'\n",
        "hvoc['Code_zonder_A'] = hvoc['Code'].str[1:]\n",
        "e = '</label> <value>HCOV_'\n",
        "f = '</value> </item>'\n",
        "\n",
        "hvoc['purc_code1'] = a + hvoc['Code'] + b + hvoc['Code'] + c + hvoc['Code'] + ' ' + hvoc['Beschrijving'] + e + hvoc['Code'] + f\n",
        "\n",
        "print(hvoc[0:2])\n",
        "hvoc['purc_code1'].to_excel('export_purc1.xlsx', index=False)"
      ],
      "metadata": {
        "colab": {
          "base_uri": "https://localhost:8080/"
        },
        "id": "Rknlwvc_rXeK",
        "outputId": "389211bc-3db7-4b68-b5c4-f4d450767370"
      },
      "execution_count": null,
      "outputs": [
        {
          "output_type": "stream",
          "name": "stdout",
          "text": [
            "    Code               Beschrijving Code_zonder_A  \\\n",
            "0  A0000                  Onbepaald          0000   \n",
            "1  A0100  Quartaire Aquifersystemen          0100   \n",
            "\n",
            "                                          purc_code1  \n",
            "0  <item id=\"HCOV_A0000\"> <label ref=\"jr:itext('H...  \n",
            "1  <item id=\"HCOV_A0100\"> <label ref=\"jr:itext('H...  \n"
          ]
        }
      ]
    },
    {
      "cell_type": "code",
      "source": [
        " #<text id=\"HCOV.HCOV_A0100_label\">  <value>0100 Quartaire Aquifersystemen</value></text>\n",
        "\n",
        "g = '<text id=\"HCOV.HCOV_'\n",
        "h = '_label\">  <value>'\n",
        "i = '</value></text>'\n",
        "\n",
        "hvoc['purc_code2'] = g + hvoc['Code'] + h + hvoc['Code'] + ' ' + hvoc['Beschrijving'] + i\n",
        "\n",
        "print(hvoc[0:2])\n",
        "hvoc['purc_code2'].to_excel('export_purc2.xlsx', index=False)"
      ],
      "metadata": {
        "colab": {
          "base_uri": "https://localhost:8080/"
        },
        "id": "G-1eyk-Krd4i",
        "outputId": "9b814dce-4fc5-41e8-a2d6-114aad47154c"
      },
      "execution_count": null,
      "outputs": [
        {
          "output_type": "stream",
          "name": "stdout",
          "text": [
            "    Code               Beschrijving Code_zonder_A  \\\n",
            "0  A0000                  Onbepaald          0000   \n",
            "1  A0100  Quartaire Aquifersystemen          0100   \n",
            "\n",
            "                                          purc_code1  \\\n",
            "0  <item id=\"HCOV_A0000\"> <label ref=\"jr:itext('H...   \n",
            "1  <item id=\"HCOV_A0100\"> <label ref=\"jr:itext('H...   \n",
            "\n",
            "                                          purc_code2  \n",
            "0  <text id=\"HCOV.HCOV_A0000_label\">  <value>A000...  \n",
            "1  <text id=\"HCOV.HCOV_A0100_label\">  <value>A010...  \n"
          ]
        }
      ]
    },
    {
      "cell_type": "markdown",
      "source": [
        "Aanpassingen voor MIL_R53_BASISGEGEVENS_HCOV_002"
      ],
      "metadata": {
        "id": "Aq-5wFPpadco"
      }
    },
    {
      "cell_type": "code",
      "source": [
        "#stukjes van de tekst tussen ' ' plaatsen. Indien er al een ' in de tekst straat, er een \\ voor zetten\n",
        "\n",
        "# <text id=\"WatervoerendeLagen/HCOV.HCOV_0000_label\"> <value>0000 ONBEPAALD</value> </text>\n",
        "\n",
        "a = '<text id=\"WatervoerendeLagen/HCOV.HCOV_'\n",
        "b = '_label\"> <value>'\n",
        "c = '</value> </text>'\n",
        "\n",
        "hvoc['purc_code3'] = a + hvoc['Code'] + b + hvoc['Code'] + ' ' + hvoc['Beschrijving'] + c\n",
        "\n",
        "print(hvoc[0:2])\n",
        "hvoc['purc_code3'].to_excel('export_purc3.xlsx', index=False)"
      ],
      "metadata": {
        "colab": {
          "base_uri": "https://localhost:8080/"
        },
        "id": "zPHxv9xVSl-R",
        "outputId": "7e72860c-1e39-4679-f112-0cf66cc6c4e4"
      },
      "execution_count": null,
      "outputs": [
        {
          "output_type": "stream",
          "name": "stdout",
          "text": [
            "    Code               Beschrijving Code_zonder_A  \\\n",
            "0  A0000                  Onbepaald          0000   \n",
            "1  A0100  Quartaire Aquifersystemen          0100   \n",
            "\n",
            "                                          purc_code1  \\\n",
            "0  <item id=\"HCOV_A0000\"> <label ref=\"jr:itext('H...   \n",
            "1  <item id=\"HCOV_A0100\"> <label ref=\"jr:itext('H...   \n",
            "\n",
            "                                          purc_code2  \\\n",
            "0  <text id=\"HCOV.HCOV_A0000_label\">  <value>A000...   \n",
            "1  <text id=\"HCOV.HCOV_A0100_label\">  <value>A010...   \n",
            "\n",
            "                                          purc_code3  \n",
            "0  <text id=\"WatervoerendeLagen/HCOV.HCOV_A0000_l...  \n",
            "1  <text id=\"WatervoerendeLagen/HCOV.HCOV_A0100_l...  \n"
          ]
        }
      ]
    },
    {
      "cell_type": "code",
      "source": [
        "#stukjes van de tekst tussen ' ' plaatsen. Indien er al een ' in de tekst straat, er een \\ voor zetten\n",
        "\n",
        "# <item id=\"HCOV_0000\"> <label ref=\"jr:itext('WatervoerendeLagen/HCOV.HCOV_0000_label')\">0000 ONBEPAALD</label><value>HCOV_0000</value></item>\n",
        "a = '<item id=\"HCOV_'\n",
        "b = '\"> <label ref=\"jr:itext(\\'WatervoerendeLagen/HCOV.HCOV_'\n",
        "c = '_label\\')\">'\n",
        "d = '</label><value>HCOV_'\n",
        "e = '</value> </item>'\n",
        "\n",
        "hvoc['purc_code4'] = a + hvoc['Code'] + b + hvoc['Code'] + c + hvoc['Code'] +' ' + hvoc['Beschrijving'] + d + hvoc['Code'] + e\n",
        "\n",
        "print(hvoc[0:2])\n",
        "hvoc['purc_code4'].to_excel('export_purc4.xlsx', index=False)"
      ],
      "metadata": {
        "colab": {
          "base_uri": "https://localhost:8080/"
        },
        "id": "z5IeUIc8AdAz",
        "outputId": "245bd53f-19cf-43ed-a556-8dc8e0656413"
      },
      "execution_count": null,
      "outputs": [
        {
          "output_type": "stream",
          "name": "stdout",
          "text": [
            "    Code               Beschrijving Code_zonder_A  \\\n",
            "0  A0000                  Onbepaald          0000   \n",
            "1  A0100  Quartaire Aquifersystemen          0100   \n",
            "\n",
            "                                          purc_code1  \\\n",
            "0  <item id=\"HCOV_A0000\"> <label ref=\"jr:itext('H...   \n",
            "1  <item id=\"HCOV_A0100\"> <label ref=\"jr:itext('H...   \n",
            "\n",
            "                                          purc_code2  \\\n",
            "0  <text id=\"HCOV.HCOV_A0000_label\">  <value>A000...   \n",
            "1  <text id=\"HCOV.HCOV_A0100_label\">  <value>A010...   \n",
            "\n",
            "                                          purc_code3  \\\n",
            "0  <text id=\"WatervoerendeLagen/HCOV.HCOV_A0000_l...   \n",
            "1  <text id=\"WatervoerendeLagen/HCOV.HCOV_A0100_l...   \n",
            "\n",
            "                                          purc_code4  \n",
            "0  <item id=\"HCOV_A0000\"> <label ref=\"jr:itext('W...  \n",
            "1  <item id=\"HCOV_A0100\"> <label ref=\"jr:itext('W...  \n"
          ]
        }
      ]
    },
    {
      "cell_type": "code",
      "source": [
        "#stukjes van de tekst tussen ' ' plaatsen. Indien er al een ' in de tekst straat, er een \\ voor zetten\n",
        "\n",
        "# <text value=\"0000 ONBEPAALD\" xpath=\"html/body/group[@id='1']/group[@id='WatervoerendeLagen']/repeat/select1[@bind='WatervoerendeLagen/HCOV']/item[@id='HCOV_0000']/label\"/>\n",
        "\n",
        "g = '<text value=\"'\n",
        "h = '\" xpath=\"html/body/group[@id=\\'1\\']/group[@id=\\'WatervoerendeLagen\\']/repeat/select1[@bind=\\'WatervoerendeLagen/HCOV\\']/item[@id=\\'HCOV_\\''\n",
        "i = '\\']/label\"/>'\n",
        "\n",
        "hvoc['purc_code5'] = g + hvoc['Code'] + ' ' + hvoc['Beschrijving'] + h + hvoc['Code'] +  i\n",
        "\n",
        "print(hvoc[0:2])\n",
        "hvoc['purc_code5'].to_excel('export_purc5.xlsx', index=False)"
      ],
      "metadata": {
        "colab": {
          "base_uri": "https://localhost:8080/"
        },
        "id": "qBqWkxsxYsOC",
        "outputId": "eb6a1daf-cbed-4c2a-cde9-b4e8cbead315"
      },
      "execution_count": null,
      "outputs": [
        {
          "output_type": "stream",
          "name": "stdout",
          "text": [
            "    Code               Beschrijving Code_zonder_A  \\\n",
            "0  A0000                  Onbepaald          0000   \n",
            "1  A0100  Quartaire Aquifersystemen          0100   \n",
            "\n",
            "                                          purc_code1  \\\n",
            "0  <item id=\"HCOV_A0000\"> <label ref=\"jr:itext('H...   \n",
            "1  <item id=\"HCOV_A0100\"> <label ref=\"jr:itext('H...   \n",
            "\n",
            "                                          purc_code2  \\\n",
            "0  <text id=\"HCOV.HCOV_A0000_label\">  <value>A000...   \n",
            "1  <text id=\"HCOV.HCOV_A0100_label\">  <value>A010...   \n",
            "\n",
            "                                          purc_code3  \\\n",
            "0  <text id=\"WatervoerendeLagen/HCOV.HCOV_A0000_l...   \n",
            "1  <text id=\"WatervoerendeLagen/HCOV.HCOV_A0100_l...   \n",
            "\n",
            "                                          purc_code4  \\\n",
            "0  <item id=\"HCOV_A0000\"> <label ref=\"jr:itext('W...   \n",
            "1  <item id=\"HCOV_A0100\"> <label ref=\"jr:itext('W...   \n",
            "\n",
            "                                          purc_code5  \n",
            "0  <text value=\"A0000 Onbepaald\" xpath=\"html/body...  \n",
            "1  <text value=\"A0100 Quartaire Aquifersystemen\" ...  \n"
          ]
        }
      ]
    },
    {
      "cell_type": "markdown",
      "source": [
        "Aanpassingen aan MIL_R53_PEILPUT_002"
      ],
      "metadata": {
        "id": "q0_BT6KZrqln"
      }
    },
    {
      "cell_type": "code",
      "source": [
        "#stukjes van de tekst tussen ' ' plaatsen. Indien er al een ' in de tekst straat, er een \\ voor zetten\n",
        "#<item id=\"HCOV_0000\"><label>0000 ONBEPAALD</label> <value>HCOV_0000</value> </item>\n",
        "\n",
        "a = '<item id=\"HCOV_'\n",
        "b = '\"><label>'\n",
        "c = '</label> <value>HCOV_'\n",
        "d = '</value> </item>'\n",
        "\n",
        "hvoc['purc_code6'] = a + hvoc['Code'] + b + hvoc['Code'] + ' ' + hvoc['Beschrijving'] + c + hvoc['Code'] +  d\n",
        "\n",
        "print(hvoc[0:2])\n",
        "hvoc['purc_code6'].to_excel('export_purc6.xlsx', index=False)"
      ],
      "metadata": {
        "colab": {
          "base_uri": "https://localhost:8080/"
        },
        "id": "c7gvMHDyrpFf",
        "outputId": "18a923d3-96b9-4cb6-9731-b20bd33d046e"
      },
      "execution_count": null,
      "outputs": [
        {
          "output_type": "stream",
          "name": "stdout",
          "text": [
            "    Code               Beschrijving Code_zonder_A  \\\n",
            "0  A0000                  Onbepaald          0000   \n",
            "1  A0100  Quartaire Aquifersystemen          0100   \n",
            "\n",
            "                                          purc_code1  \\\n",
            "0  <item id=\"HCOV_A0000\"> <label ref=\"jr:itext('H...   \n",
            "1  <item id=\"HCOV_A0100\"> <label ref=\"jr:itext('H...   \n",
            "\n",
            "                                          purc_code2  \\\n",
            "0  <text id=\"HCOV.HCOV_A0000_label\">  <value>A000...   \n",
            "1  <text id=\"HCOV.HCOV_A0100_label\">  <value>A010...   \n",
            "\n",
            "                                          purc_code3  \\\n",
            "0  <text id=\"WatervoerendeLagen/HCOV.HCOV_A0000_l...   \n",
            "1  <text id=\"WatervoerendeLagen/HCOV.HCOV_A0100_l...   \n",
            "\n",
            "                                          purc_code4  \\\n",
            "0  <item id=\"HCOV_A0000\"> <label ref=\"jr:itext('W...   \n",
            "1  <item id=\"HCOV_A0100\"> <label ref=\"jr:itext('W...   \n",
            "\n",
            "                                          purc_code5  \\\n",
            "0  <text value=\"A0000 Onbepaald\" xpath=\"html/body...   \n",
            "1  <text value=\"A0100 Quartaire Aquifersystemen\" ...   \n",
            "\n",
            "                                          purc_code6  \n",
            "0  <item id=\"HCOV_A0000\"><label>A0000 Onbepaald</...  \n",
            "1  <item id=\"HCOV_A0100\"><label>A0100 Quartaire A...  \n"
          ]
        }
      ]
    },
    {
      "cell_type": "code",
      "source": [],
      "metadata": {
        "id": "DotaIxnc5WUh"
      },
      "execution_count": null,
      "outputs": []
    }
  ]
}