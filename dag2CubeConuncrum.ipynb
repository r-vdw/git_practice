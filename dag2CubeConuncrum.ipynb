{
  "nbformat": 4,
  "nbformat_minor": 0,
  "metadata": {
    "colab": {
      "provenance": [],
      "authorship_tag": "ABX9TyPqAhv5AjrxvllTUn44FhFY",
      "include_colab_link": true
    },
    "kernelspec": {
      "name": "python3",
      "display_name": "Python 3"
    },
    "language_info": {
      "name": "python"
    }
  },
  "cells": [
    {
      "cell_type": "markdown",
      "metadata": {
        "id": "view-in-github",
        "colab_type": "text"
      },
      "source": [
        "<a href=\"https://colab.research.google.com/github/r-vdw/git_practice/blob/master/dag2CubeConuncrum.ipynb\" target=\"_parent\"><img src=\"https://colab.research.google.com/assets/colab-badge.svg\" alt=\"Open In Colab\"/></a>"
      ]
    },
    {
      "cell_type": "code",
      "execution_count": 50,
      "metadata": {
        "colab": {
          "base_uri": "https://localhost:8080/"
        },
        "id": "eo-ysY_gJni0",
        "outputId": "7a1e5eff-7151-4f03-8542-4231693bd02e"
      },
      "outputs": [
        {
          "output_type": "stream",
          "name": "stdout",
          "text": [
            "2528\n"
          ]
        }
      ],
      "source": [
        "#Day 2: Cube Conundrum (deel 1)\n",
        "\n",
        "class GameCubes():\n",
        "\n",
        "  def __init__(self, red=12, green=13, blue=14):\n",
        "    self.__red = red\n",
        "    self.__green = green\n",
        "    self.__blue = blue\n",
        "\n",
        "  def getRed(self):\n",
        "    return self.__red\n",
        "\n",
        "  def getGreen(self):\n",
        "    return self.__green\n",
        "\n",
        "  def getBlue(self):\n",
        "    return self.__blue\n",
        "\n",
        "def inputGameInladen(input):\n",
        "  inputGame = {}\n",
        "  with open(input, 'r') as inputDag2:\n",
        "    for x in inputDag2:\n",
        "      indexDubbelPunt = x.find(\":\")\n",
        "      inputGame[int(x[5:indexDubbelPunt])] = x[indexDubbelPunt+2:len(x)-1]  #dubbelpunt en \\n verwijderen #laatste game nog fout door ontbreken \\n (geen impact voor codeOfAdventInput)\n",
        "\n",
        "  #print(inputGame)\n",
        "  return(inputGame)\n",
        "\n",
        "eenSpel = '7 blue, 5 red; 10 red, 7 blue; 5 blue, 4 green, 15 red; 4 green, 6 red, 7 blue; 5 green, 8 blue, 4 red; 5 red, 4 blue, 3 green'\n",
        "def checkEenSpel(eenSpel):\n",
        "  eenSpel = eenSpel.replace(\";\", \",\")\n",
        "  eenSpelGesplits = eenSpel.split(\",\")\n",
        "  spelOK = True\n",
        "  for cubes in eenSpelGesplits:\n",
        "    cubes = cubes.strip().split(\" \")\n",
        "\n",
        "    if cubes[1] == \"red\" and int(cubes[0]) > cubeConundrum.getRed():\n",
        "      spelOK = False\n",
        "    elif cubes[1] == \"green\" and int(cubes[0]) > cubeConundrum.getGreen():\n",
        "      spelOK = False\n",
        "    elif cubes[1] == \"blue\" and int(cubes[0]) > cubeConundrum.getBlue():\n",
        "      spelOK = False\n",
        "\n",
        "\n",
        "#  if not spelOK:\n",
        "#    print(eenSpel)\n",
        "\n",
        "  return spelOK\n",
        "\n",
        "\n",
        "def speelSpel(inputDict):\n",
        "  somGameIndeces = 0\n",
        "  for spel in inputDict.keys():\n",
        "    if checkEenSpel(inputDict[spel]):\n",
        "      somGameIndeces += spel\n",
        "\n",
        "  return somGameIndeces\n",
        "\n",
        "#StartSpel\n",
        "\n",
        "cubeConundrum = GameCubes()\n",
        "inputGame = inputGameInladen('dag2.txt')\n",
        "inputGameDict = dict(inputGame)\n",
        "#print(inputGameDict)\n",
        "print(speelSpel(inputGameDict))\n",
        "\n"
      ]
    },
    {
      "cell_type": "code",
      "source": [
        "#Day 2: Cube Conundrum (deel 2)\n",
        "\n",
        "class GameCubes():\n",
        "\n",
        "  def __init__(self, red=12, green=13, blue=14):\n",
        "    self.__red = red\n",
        "    self.__green = green\n",
        "    self.__blue = blue\n",
        "\n",
        "  def getRed(self):\n",
        "    return self.__red\n",
        "\n",
        "  def getGreen(self):\n",
        "    return self.__green\n",
        "\n",
        "  def getBlue(self):\n",
        "    return self.__blue\n",
        "\n",
        "def inputGameInladen(input):\n",
        "  inputGame = {}\n",
        "  with open(input, 'r') as inputDag2:\n",
        "    for x in inputDag2:\n",
        "      indexDubbelPunt = x.find(\":\")\n",
        "      inputGame[int(x[5:indexDubbelPunt])] = x[indexDubbelPunt+2:len(x)-1]  #dubbelpunt en \\n verwijderen #laatste game nog fout door ontbreken \\n (geen impact voor codeOfAdventInput)\n",
        "\n",
        "  #print(inputGame)\n",
        "  return(inputGame)\n",
        "\n",
        "eenSpel = '7 blue, 5 red; 10 red, 7 blue; 5 blue, 4 green, 15 red; 4 green, 6 red, 7 blue; 5 green, 8 blue, 4 red; 5 red, 4 blue, 3 green'\n",
        "def checkEenSpel(eenSpel):\n",
        "  eenSpel = eenSpel.replace(\";\", \",\")\n",
        "  eenSpelGesplits = eenSpel.split(\",\")\n",
        "  spelRed = 0\n",
        "  spelGreen = 0\n",
        "  spelBlue = 0\n",
        "  for cubes in eenSpelGesplits:\n",
        "    cubes = cubes.strip().split(\" \")\n",
        "\n",
        "    if cubes[1] == \"red\" and int(cubes[0]) > spelRed:\n",
        "      spelRed = int(cubes[0])\n",
        "    elif cubes[1] == \"green\" and int(cubes[0]) > spelGreen:\n",
        "      spelGreen = int(cubes[0])\n",
        "    elif cubes[1] == \"blue\" and int(cubes[0]) > spelBlue:\n",
        "      spelBlue = int(cubes[0])\n",
        "\n",
        "\n",
        "#  if not spelOK:\n",
        "#    print(eenSpel)\n",
        "\n",
        "  return spelRed * spelGreen * spelBlue\n",
        "\n",
        "\n",
        "def speelSpel(inputDict):\n",
        "  somGameIndeces = 0\n",
        "  for spel in inputDict.keys():\n",
        "    somGameIndeces += checkEenSpel(inputDict[spel])\n",
        "\n",
        "  return somGameIndeces\n",
        "\n",
        "#StartSpel\n",
        "\n",
        "cubeConundrum = GameCubes()\n",
        "inputGame = inputGameInladen('dag2.txt')\n",
        "inputGameDict = dict(inputGame)\n",
        "#print(inputGameDict)\n",
        "print(speelSpel(inputGameDict))\n",
        "\n"
      ],
      "metadata": {
        "colab": {
          "base_uri": "https://localhost:8080/"
        },
        "id": "sLSGOVuZYPqk",
        "outputId": "a61970d1-2d5c-4236-f3e8-43928207cbca"
      },
      "execution_count": 55,
      "outputs": [
        {
          "output_type": "stream",
          "name": "stdout",
          "text": [
            "67363\n"
          ]
        }
      ]
    }
  ]
}