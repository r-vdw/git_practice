{
  "nbformat": 4,
  "nbformat_minor": 0,
  "metadata": {
    "colab": {
      "provenance": [],
      "authorship_tag": "ABX9TyMdHFen5W11xtwZeZ3gCF1S",
      "include_colab_link": true
    },
    "kernelspec": {
      "name": "python3",
      "display_name": "Python 3"
    },
    "language_info": {
      "name": "python"
    }
  },
  "cells": [
    {
      "cell_type": "markdown",
      "metadata": {
        "id": "view-in-github",
        "colab_type": "text"
      },
      "source": [
        "<a href=\"https://colab.research.google.com/github/r-vdw/git_practice/blob/master/dag3GearRatios.ipynb\" target=\"_parent\"><img src=\"https://colab.research.google.com/assets/colab-badge.svg\" alt=\"Open In Colab\"/></a>"
      ]
    },
    {
      "cell_type": "code",
      "execution_count": 29,
      "metadata": {
        "colab": {
          "base_uri": "https://localhost:8080/"
        },
        "id": "TlwnfRmZfS1n",
        "outputId": "8c3befb6-2eff-4e59-83be-423d968e0eb3"
      },
      "outputs": [
        {
          "output_type": "stream",
          "name": "stdout",
          "text": [
            "['467..114.-', '...*......', '..35..633.', '......#...', '617*......', '.....+.58.', '..592.....', '......755.', '...$.*....', '.664.598..']\n",
            "[[False, False, True, True, True, False, False, False, True, True], [False, False, False, False, False, False, False, False, False, False], [False, False, False, False, False, False, False, False, False, False], [False, False, False, False, False, False, False, False, False, False], [False, False, False, False, False, False, False, False, False, False], [False, False, False, False, False, False, False, False, False, False], [False, False, False, False, False, False, False, False, False, False], [False, False, False, False, False, False, False, False, False, False], [False, False, False, False, False, False, False, False, False, False], [False, False, False, False, False, False, False, False, False, False]]\n"
          ]
        }
      ],
      "source": [
        "def InputGearInladen(input):\n",
        "  inputGame = []\n",
        "  with open(input, 'r') as inputGear:\n",
        "    for x in inputGear:\n",
        "      inputGame.append(x.strip())\n",
        "  return(inputGame)\n",
        "\n",
        "def generateFalseMatrix(input):\n",
        "  falseMatrix = [[False for i in range(len(input[0]))] for j in range(len(input))]\n",
        "  return falseMatrix\n",
        "\n",
        "def checkSymbool(letter):\n",
        "  isSymbool = True\n",
        "  if letter == \".\" or letter.isdigit():\n",
        "    isSymbool = False\n",
        "\n",
        "  return isSymbool\n",
        "\n",
        "def generateFalseAndTrueMatrix(matrix, input):\n",
        "  aantalLijnenInput = len(input)\n",
        "  lengteInputLijnen = len(input[0])\n",
        "  for indexLijn in range(aantalLijnenInput):\n",
        "    for indexLetter in range(lengteInputLijnen):   #hele kleine shortcut, mochten niet alle lijnen even lang zijn, zou dit problemen opleveren\n",
        "\n",
        "      if indexLijn == 0:\n",
        "        if indexLetter == 0:\n",
        "            if checkSymbool(input[indexLijn][indexLetter]) or checkSymbool(input[indexLijn][indexLetter+1]) or checkSymbool(input[indexLijn+1][indexLetter]) or checkSymbool(input[indexLijn+1][indexLetter+1]):\n",
        "               matrix[indexLijn][indexLetter] = True\n",
        "\n",
        "        elif indexLetter ==  lengteInputLijnen-1:\n",
        "            if checkSymbool(input[indexLijn][indexLetter]) or checkSymbool(input[indexLijn][indexLetter-1]) or checkSymbool(input[indexLijn+1][indexLetter]) or checkSymbool(input[indexLijn+1][indexLetter-1]):\n",
        "               matrix[indexLijn][indexLetter] = True\n",
        "\n",
        "        else:\n",
        "          for i in [indexLijn, indexLijn+1]:\n",
        "            for j in [indexLetter-1, indexLetter, indexLetter+1]:\n",
        "              if checkSymbool(input[i][j]):\n",
        "                matrix[indexLijn][indexLetter] = True\n",
        "\n",
        "      elif indexLijn == aantalLijnenInput:\n",
        "        if indexLetter == 0:\n",
        "          pass\n",
        "        elif indexLetter ==  lengteInputLijnen:\n",
        "          pass\n",
        "        else:\n",
        "          pass\n",
        "\n",
        "      else:\n",
        "        if indexLetter == 0:\n",
        "          pass\n",
        "        elif indexLetter ==  lengteInputLijnen:\n",
        "          pass\n",
        "        else:\n",
        "          pass\n",
        "\n",
        "\n",
        "def getallenSelecterenUitInputAndCheckenMetMatrix():\n",
        "  pass\n",
        "\n",
        "\n",
        "inputGame = inputGearInladen('dag3_test.txt')\n",
        "print(inputGame)\n",
        "falseMatrix = generateFalseMatrix(inputGame)\n",
        "generateFalseAndTrueMatrix(falseMatrix, inputGame)\n",
        "print(falseMatrix)\n"
      ]
    }
  ]
}