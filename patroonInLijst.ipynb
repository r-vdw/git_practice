{
  "nbformat": 4,
  "nbformat_minor": 0,
  "metadata": {
    "colab": {
      "provenance": [],
      "authorship_tag": "ABX9TyNjst761enmRilUG1dYucBC",
      "include_colab_link": true
    },
    "kernelspec": {
      "name": "python3",
      "display_name": "Python 3"
    },
    "language_info": {
      "name": "python"
    }
  },
  "cells": [
    {
      "cell_type": "markdown",
      "metadata": {
        "id": "view-in-github",
        "colab_type": "text"
      },
      "source": [
        "<a href=\"https://colab.research.google.com/github/r-vdw/git_practice/blob/master/patroonInLijst.ipynb\" target=\"_parent\"><img src=\"https://colab.research.google.com/assets/colab-badge.svg\" alt=\"Open In Colab\"/></a>"
      ]
    },
    {
      "cell_type": "code",
      "execution_count": 44,
      "metadata": {
        "id": "rjN5qbdcJeQw"
      },
      "outputs": [],
      "source": [
        "import random\n",
        "\n",
        "def kopOfMunt():\n",
        "  return random.randint(0,1)\n",
        "\n",
        "def maakLijst(aantalKeerGooien = 100):\n",
        "  lijst = []\n",
        "  for i in range(aantalKeerGooien):\n",
        "    x = kopOfMunt()\n",
        "    lijst.append(x)\n",
        "  return lijst\n",
        "\n",
        "def patroonInLijst(l, patroon = [0,1,0]):\n",
        "  lengtePatroon = len(patroon)\n",
        "  lengteLijst = len(l)\n",
        "  #print(\"de lijst is\" + str(l) + \", met een lengte \" + str(lengteLijst))\n",
        "  #print(\"het patroon is \" + str(patroon) + \", met een lengte \" + str(lengtePatroon))\n",
        "\n",
        "  if lengteLijst >= lengtePatroon:\n",
        "    return zoekPatroonInLijst(l, patroon, lengteLijst, lengtePatroon)\n",
        "  else:\n",
        "    print(\"lijst is korter dan patroon\")\n",
        "    return 0\n",
        "\n",
        "def zoekPatroonInLijst(l, patroon, lengteLijst, lengtePatroon):\n",
        "  startIndex = 0\n",
        "  aantalKeerPatroonGevonden = 0\n",
        "\n",
        "  while startIndex < (lengteLijst - lengtePatroon):\n",
        "    #print(\"startIndex is: \" + str(startIndex) + \", aantal keer gevonden: \" + str(aantalKeerPatroonGevonden))\n",
        "    gevonden = True\n",
        "    for i in range(lengtePatroon):\n",
        "      if l[startIndex + i] != patroon[i]:\n",
        "        gevonden = False\n",
        "\n",
        "    if gevonden:\n",
        "      aantalKeerPatroonGevonden = aantalKeerPatroonGevonden+1\n",
        "\n",
        "    startIndex = startIndex +1\n",
        "\n",
        "  return aantalKeerPatroonGevonden\n"
      ]
    },
    {
      "cell_type": "markdown",
      "source": [
        "programma:\n"
      ],
      "metadata": {
        "id": "6CklQpuJQKhk"
      }
    },
    {
      "cell_type": "code",
      "source": [
        "lijst = maakLijst(300000)\n",
        "x = patroonInLijst(lijst, patroon = [0,1,0])\n",
        "y = patroonInLijst(lijst, patroon = [0,1,1])\n",
        "\n",
        "print(x)\n",
        "print(y)\n",
        "\n",
        "\n",
        "\n"
      ],
      "metadata": {
        "colab": {
          "base_uri": "https://localhost:8080/"
        },
        "id": "5DqMD1WpQOOd",
        "outputId": "ec6a3dc1-e298-45e9-e584-9a7d0c71296d"
      },
      "execution_count": 91,
      "outputs": [
        {
          "output_type": "stream",
          "name": "stdout",
          "text": [
            "37738\n",
            "37545\n"
          ]
        }
      ]
    },
    {
      "cell_type": "code",
      "source": [
        "aantalKop = 0\n",
        "aantalMunt = 0\n",
        "aantalKeerGooien = 100000\n",
        "lijst = []\n",
        "\n",
        "for i in range(aantalKeerGooien):\n",
        "  #print(\"poging\" + str(i))\n",
        "  x = kopOfMunt()\n",
        "  #print(x)\n",
        "  lijst.append(x)\n",
        "  if x == 0:\n",
        "    aantalKop = aantalKop +1\n",
        "  else:\n",
        "    aantalMunt = aantalMunt +1\n",
        "\n",
        "print(\"het aantal keer kop was na \" + str(aantalKeerGooien) + \" keer gooien: \" + str(aantalKop) + \", het aantal keer munt was dan \"+ str(aantalMunt))\n",
        "#print(lijst)\n"
      ],
      "metadata": {
        "colab": {
          "base_uri": "https://localhost:8080/"
        },
        "id": "1VFKPivAJziK",
        "outputId": "1ca91783-6b7b-4697-9059-eb1531de9310"
      },
      "execution_count": 77,
      "outputs": [
        {
          "output_type": "stream",
          "name": "stdout",
          "text": [
            "het aantal keer kop was na 100000 keer gooien: 49897, het aantal keer munt was dan 50103\n"
          ]
        }
      ]
    }
  ]
}