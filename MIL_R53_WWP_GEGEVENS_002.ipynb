{
  "nbformat": 4,
  "nbformat_minor": 0,
  "metadata": {
    "colab": {
      "provenance": [],
      "authorship_tag": "ABX9TyOg5o7pceq19XKiGbJV0w05",
      "include_colab_link": true
    },
    "kernelspec": {
      "name": "python3",
      "display_name": "Python 3"
    },
    "language_info": {
      "name": "python"
    }
  },
  "cells": [
    {
      "cell_type": "markdown",
      "metadata": {
        "id": "view-in-github",
        "colab_type": "text"
      },
      "source": [
        "<a href=\"https://colab.research.google.com/github/r-vdw/git_practice/blob/master/MIL_R53_WWP_GEGEVENS_002.ipynb\" target=\"_parent\"><img src=\"https://colab.research.google.com/assets/colab-badge.svg\" alt=\"Open In Colab\"/></a>"
      ]
    },
    {
      "cell_type": "markdown",
      "source": [
        "Aanpassingen aan MIL_R53_WWP_GEGEVENS_002"
      ],
      "metadata": {
        "id": "Aq-5wFPpadco"
      }
    },
    {
      "cell_type": "code",
      "source": [
        "import pandas as pd\n",
        "\n",
        "file1 = pd.read_excel('HCOVv2_nieuwe_grondwaterlagen_clean.xlsx')\n",
        "print(file1)"
      ],
      "metadata": {
        "colab": {
          "base_uri": "https://localhost:8080/"
        },
        "id": "7dSATK06Rit1",
        "outputId": "ddb6c616-5d1a-4b0c-f133-c00ef73b5c12"
      },
      "execution_count": 29,
      "outputs": [
        {
          "output_type": "stream",
          "name": "stdout",
          "text": [
            "      Code                                Beschrijving\n",
            "0    A0000                                   Onbepaald\n",
            "1    A0100                   Quartaire Aquifersystemen\n",
            "2    A0110                                  Ophogingen\n",
            "3    A0120                                      Duinen\n",
            "4    A0130                           Polderafzettingen\n",
            "..     ...                                         ...\n",
            "129  A1300                                      Sokkel\n",
            "130  A1310  Boven-Carboon (steenkoolterrein en -lagen)\n",
            "131  A1320                 Kolenkalk (incl. Wealdiaan)\n",
            "132  A1330                                      Devoon\n",
            "133  A1340           Cambro-Siluur Massief van Brabant\n",
            "\n",
            "[134 rows x 2 columns]\n"
          ]
        }
      ]
    },
    {
      "cell_type": "code",
      "source": [
        "a = '<item id=\"HCOV_'\n",
        "b = '\"> <label ref=\"jr:itext(\\'HCOV.HCOV_'\n",
        "c = '_label\\')\">'\n",
        "file1['Code_zonder_A'] = file1['Code'].str[1:]\n",
        "e = '</label> <value>HCOV_'\n",
        "f = '</value> </item>'\n",
        "\n",
        "file1['purc_code1'] = a + file1['Code'] + b + file1['Code'] + c + file1['Code_zonder_A'] + ' ' + file1['Beschrijving'] + e + file1['Code'] + f\n",
        "\n",
        "print(file1[0:2])\n",
        "file1['purc_code1'].to_excel('export_purc1.xlsx', index=False)"
      ],
      "metadata": {
        "colab": {
          "base_uri": "https://localhost:8080/"
        },
        "id": "zPHxv9xVSl-R",
        "outputId": "864a884e-ed4f-4f01-87fa-65901aa6ab03"
      },
      "execution_count": 30,
      "outputs": [
        {
          "output_type": "stream",
          "name": "stdout",
          "text": [
            "    Code               Beschrijving Code_zonder_A  \\\n",
            "0  A0000                  Onbepaald          0000   \n",
            "1  A0100  Quartaire Aquifersystemen          0100   \n",
            "\n",
            "                                          purc_code1  \n",
            "0  <item id=\"HCOV_A0000\"> <label ref=\"jr:itext('H...  \n",
            "1  <item id=\"HCOV_A0100\"> <label ref=\"jr:itext('H...  \n"
          ]
        }
      ]
    },
    {
      "cell_type": "code",
      "source": [
        "g = '<text id=\"HCOV.HCOV_'\n",
        "h = '_label\">  <value>'\n",
        "i = '</value></text>'\n",
        "\n",
        "file1['purc_code2'] = g + file1['Code'] + h + file1['Code_zonder_A'] + ' ' + file1['Beschrijving'] + i\n",
        "\n",
        "print(file1[0:2])\n",
        "file1['purc_code2'].to_excel('export_purc2.xlsx', index=False)"
      ],
      "metadata": {
        "colab": {
          "base_uri": "https://localhost:8080/"
        },
        "id": "qBqWkxsxYsOC",
        "outputId": "d229132b-9b2d-4ab5-f584-89d76ff83067"
      },
      "execution_count": 31,
      "outputs": [
        {
          "output_type": "stream",
          "name": "stdout",
          "text": [
            "    Code               Beschrijving Code_zonder_A  \\\n",
            "0  A0000                  Onbepaald          0000   \n",
            "1  A0100  Quartaire Aquifersystemen          0100   \n",
            "\n",
            "                                          purc_code1  \\\n",
            "0  <item id=\"HCOV_A0000\"> <label ref=\"jr:itext('H...   \n",
            "1  <item id=\"HCOV_A0100\"> <label ref=\"jr:itext('H...   \n",
            "\n",
            "                                          purc_code2  \n",
            "0  <text id=\"HCOV.HCOV_A0000_label\">  <value>0000...  \n",
            "1  <text id=\"HCOV.HCOV_A0100_label\">  <value>0100...  \n"
          ]
        }
      ]
    }
  ]
}