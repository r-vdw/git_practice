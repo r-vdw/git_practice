{
  "nbformat": 4,
  "nbformat_minor": 0,
  "metadata": {
    "colab": {
      "provenance": [],
      "authorship_tag": "ABX9TyPBzo/9longK8ctXxMujqVE",
      "include_colab_link": true
    },
    "kernelspec": {
      "name": "python3",
      "display_name": "Python 3"
    },
    "language_info": {
      "name": "python"
    }
  },
  "cells": [
    {
      "cell_type": "markdown",
      "metadata": {
        "id": "view-in-github",
        "colab_type": "text"
      },
      "source": [
        "<a href=\"https://colab.research.google.com/github/r-vdw/git_practice/blob/master/MCPadres.ipynb\" target=\"_parent\"><img src=\"https://colab.research.google.com/assets/colab-badge.svg\" alt=\"Open In Colab\"/></a>"
      ]
    },
    {
      "cell_type": "markdown",
      "source": [
        "MCP adressen"
      ],
      "metadata": {
        "id": "ONS_dpmzrBWP"
      }
    },
    {
      "cell_type": "code",
      "source": [
        "input_snel = \"Voetbalstraat 42 9920 Lievegem; Voetbalstraat 44 9920 Lievegem; Voetbalstraat 46 9920 Lievegem; Voetbalstraat 48 9920 Lievegem\"\n",
        "\n",
        "def shorten_addresses(addresses):\n",
        "    # Split de adressen op basis van puntkomma\n",
        "    address_list = addresses.split('; ')\n",
        "\n",
        "    # Haal het gemeenschappelijke deel van het adres eruit\n",
        "    common_part = ' '.join(address_list[0].split(' ')[2:])\n",
        "\n",
        "    # Haal de huisnummers eruit\n",
        "    house_numbers = [address.split(' ')[1] for address in address_list]\n",
        "\n",
        "    # Voeg de huisnummers samen met streepjes\n",
        "    shortened_house_numbers = '-'.join(house_numbers)\n",
        "\n",
        "    # Combineer de verkorte huisnummers met het gemeenschappelijke deel\n",
        "    shortened_address = f\"Voetbalstraat {shortened_house_numbers} {common_part}\"\n",
        "\n",
        "    return shortened_address\n",
        "\n",
        "# Voorbeeld gebruik\n",
        "addresses = input_snel\n",
        "shortened_address = shorten_addresses(addresses)\n",
        "print(shortened_address)\n",
        "\n"
      ],
      "metadata": {
        "colab": {
          "base_uri": "https://localhost:8080/"
        },
        "id": "esBNHIIEn9uT",
        "outputId": "c5bdc356-6e56-4ddf-f1fd-2808bfe6d467"
      },
      "execution_count": 59,
      "outputs": [
        {
          "output_type": "stream",
          "name": "stdout",
          "text": [
            "Voetbalstraat 42-44-46-48 9920 Lievegem\n"
          ]
        }
      ]
    }
  ]
}